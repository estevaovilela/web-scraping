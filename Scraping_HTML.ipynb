{
 "cells": [
  {
   "cell_type": "code",
   "execution_count": 1,
   "metadata": {
    "colab": {
     "base_uri": "https://localhost:8080/",
     "height": 17
    },
    "colab_type": "code",
    "id": "i3IeFV63ldYo",
    "outputId": "6ad8ef1b-4fdc-4f4e-851a-bc8642f9d947"
   },
   "outputs": [
    {
     "data": {
      "text/html": [
       "<style>.container { width:95% !important; }</style>"
      ],
      "text/plain": [
       "<IPython.core.display.HTML object>"
      ]
     },
     "metadata": {},
     "output_type": "display_data"
    }
   ],
   "source": [
    "from IPython.core.display import display, HTML\n",
    "display(HTML(\"<style>.container { width:95% !important; }</style>\"))"
   ]
  },
  {
   "cell_type": "markdown",
   "metadata": {
    "colab_type": "text",
    "id": "6mBkQGZ29fBu"
   },
   "source": [
    "\n",
    "<center> <h1><b>Minicurso - Coleta de Dados na Web</b></h1></center>\n",
    "\n",
    "<h2><b>Web Scraping</b></h2>\n",
    "\n",
    "<h3>Bernardo Abreu - Vinícius Silva</h3>\n",
    "\n",
    "Este notebook possui o objetivo de introduzir a estrutura genérica e como funcionam páginas html, bem como a utilização das tags para extrair informações por meio de web scraping.\n",
    "\n",
    "Também mostraremos um técnica de análise simples aplicada sobre os dados coletados.\n",
    "\n",
    "## 1- Introdução básica ao HTML\n",
    "HTML (**H**yper**T**ext **M**arkup **L**anguage) é uma linguagem de marcação utilizada na construção de páginas Web. A linguagem é fortemente baseada no uso de <i>tags</i>, que são estruturas especiais que indicam ao browser, o que cada elemento da página significa e como ele deve ser renderizado.\n",
    "\n",
    "\n",
    "Estrutura Geral de uma tag HTML:\n",
    "\n",
    "```html\n",
    "<nome_da_tag atributo1=\"val_atributo_1\"  atributo2=\"val_atributo2\"> conteudo_da_tag </nome_da_tag>\n",
    "```\n",
    "<br/>\n",
    "\n",
    "### Exemplo:\n",
    "Criando um link para um site:\n",
    "\n",
    "```html\n",
    "<a href=\"http://www.bigdata.com.br\" target=\"_self\"><p>Clique aqui para visitar o site da Big Data</p></a>\n",
    "```\n",
    "<ul>\n",
    "<li>p = marcador que define um parágrafo.</li>\n",
    "<li>a = marcador que define uma hiperligação (link).</li>\n",
    "<li>href = atributo que define a url do link.</li>\n",
    "<li>target = atributo que define a forma como o link será aberto.</li>\n",
    "<li>_self = valor do atributo Target que define que o link será aberta na mesma guia.</li>\n",
    "<li>/ = define o fechamento do elemento</li>\n",
    "</ul>\n",
    "\n",
    "### Referência para consulta:\n",
    "Um site extremamente recomendado para quem quer aprender HTML (e desenvolvimento web, no geral) é o W3Schools (https://www.w3schools.com/). Lá você vai encontrar tutoriais interativos de como usar as tags, o que elas fazem, como integrar JavaScript, CSS, Ajax, e muito mais. Vale a pena conferir."
   ]
  },
  {
   "cell_type": "code",
   "execution_count": 4,
   "metadata": {
    "colab": {
     "base_uri": "https://localhost:8080/",
     "height": 46
    },
    "colab_type": "code",
    "id": "Wkv8qUFsrEcW",
    "outputId": "e1633466-4042-4f90-99ee-03a8870b7f9e"
   },
   "outputs": [
    {
     "data": {
      "text/html": [
       "\n",
       "  <a href=\"http://www.bigdata.com.br\" target=\"_self\">\n",
       "    <p>Clique aqui para visitar o site da Big Data</p>\n",
       "  </a>\n"
      ],
      "text/plain": [
       "<IPython.core.display.HTML object>"
      ]
     },
     "execution_count": 4,
     "metadata": {},
     "output_type": "execute_result"
    }
   ],
   "source": [
    "from IPython.display import HTML\n",
    "\n",
    "first_html = \"\"\"\n",
    "  <a href=\"http://www.bigdata.com.br\" target=\"_self\">\n",
    "    <p>Clique aqui para visitar o site da Big Data</p>\n",
    "  </a>\n",
    "\"\"\"\n",
    "\n",
    "HTML(first_html)"
   ]
  },
  {
   "cell_type": "markdown",
   "metadata": {
    "colab_type": "text",
    "id": "Rm5EgVFdlKQ3"
   },
   "source": [
    "## 2- Navegando na hierarquia\n",
    " ### Exemplo:\n",
    "\n",
    "Considere o documento HMTL mostrado abaixo:\n",
    "\n",
    "```html\n",
    "<!DOCTYPE html>\n",
    "<html>\n",
    "    <head>\n",
    "        <title>Título do Documento</title>\n",
    "    </head>\n",
    "    <body>\n",
    "      <!-- Aqui fica a página que será visível para todos, onde pode-se inserir\n",
    "      textos, imagens, links para outras páginas, etc, geralmente usa-se: -->\n",
    "\n",
    "      <div>Tag para criar-se uma caixa, um bloco, mais utilizada com \"Cascading Style Sheets\" (CSS) </div>\n",
    "\n",
    "      <span>Tag para modificação de uma parte do texto da página</span>\n",
    "\n",
    "      <img src=\"endereço_de_uma_imagem.jpg\" />\n",
    "\n",
    "      <a href=\"http://www.wikipedia.org\">Wikipedia, A Enciclopédia Livre</a>\n",
    "    </body>\n",
    "</html>\n",
    "```\n",
    "\n",
    "Neste exemplo, podemos ver um recurso extremamente útil na linguagem HTML, que é o aninhamento de tags. Perceba que a tag **title** está aninhada dentro da tag **head**, que por sua vez, está aninhada dentro da tag **html**. Dizemos que a tag **title** é filha (*child*) da tag **head** (dita tag pai ou *parent*), que por sua vez é filha da tag **html**. Ambas as tags **title** e **head** são ditas descendentes da tag **html**. Tags no mesmo nível de aninhamento, (como **div** e **span**, neste exemplo) são chamadas tags irmãs. Esse aninhamento cria uma espécie de hierarquia dentro de um documento HTML que nos será muito útil do ponto de vista do web scraping.\n",
    "\n",
    "O formato estruturado de um arquivo HTML nos permite utilizar ferramentas de querying no documento. Através dessas ferramentas, podemos fazer consultas ao documento e fazer perguntas como: Qual o conteúdo da tag span? Ou ainda, qual o valor do atributo src da tag image?\n",
    "\n",
    "<br/>\n",
    "\n",
    "### A Linguagem XPath:\n",
    "\n",
    "A tecnologia XPath (XML Path Language) é uma linguagem de consulta utilizada para selecionar nós de um documento XML. Além disso, também pode ser usada para computar valores (strings, números, booleanos, etc) do conteúdo de um documento XML.\n",
    "\n",
    "### Exemplo:\n",
    "\n",
    "Copie o código HTML mostrado acima e cole-o no campo XML Input do site https://www.freeformatter.com/xpath-tester.html\n",
    "\n",
    "No campo XPath expression, colocaremos as expressões XPath propriamente ditas para respondermos algumas perguntas de nosso interesse a respeito do documento\n",
    "\n",
    "1- Qual o conteúdo da tag span? <br/>\n",
    "R: //span/text()\n",
    "\n",
    "2- Qual o valor do atributo src da tag image? <br/>\n",
    "R: //img/@src\n",
    "\n",
    "<br/>\n",
    "\n",
    "### Referência para consulta:\n",
    "\n",
    "Um recurso bastante interessante para se ter em mãos ao fazer web scraping, é a cheat sheet do XPath, disponível aqui: https://devhints.io/xpath\n",
    "\n",
    "Com ela, podemos ter acesso fácil às principais funcionalidades da linguagem, sendo um meio rápido de resolver problemas básicos. Para problemas mais complexos e discussões de melhores práticas, é bom recorrer ao bom e velho StackOverflow.\n"
   ]
  },
  {
   "cell_type": "markdown",
   "metadata": {
    "colab_type": "text",
    "id": "F-Y4Q0nnSYne"
   },
   "source": [
    "## 3- Praticando\n",
    "\n",
    "Mesmo que o que mostramos até agora pareça bastante básico, vamos mostrar que já é o suficiente para crawlearmos um site simples.\n",
    "Um site básico que podemos utilizar é o quotes.toscrape.com, que foi criado justamente para ensinar novatos a coletar dados na web. Trata-se de uma página com relativamente poucos elementos e que não implementa mecanismos de bloqueio. É um bom lugar para começar.\n",
    "\n",
    "O site contém citações de autores renomados, tageadas e dispostas ao longo de 10 páginas. Nosso objetivo com esse tutorial é coletar todas as citações e seus respectivos autores e tags.\n",
    "Uma vez que tivermos os dados, criaremos uma wordcloud com as top 15 tags mais usadas."
   ]
  },
  {
   "cell_type": "markdown",
   "metadata": {
    "colab_type": "text",
    "id": "mpiVYwmFXgce"
   },
   "source": [
    "Vamos começar instalando algumas bibliotecas que nos auxiliarão a completar essa tarefa. \n",
    "\n",
    "A biblioteca scrapy é extremamente útil para a criação de crawlers. Ela fornece ferramentas para a paralelização de requests, uma plataforma para a execução de consultas XPath, meios para integração com proxies, etc. Para esse tutorial em específico, estamos interessados na sua capacidade de execução de queries XPath.\n",
    "\n",
    "Já a biblioteca wordcloud, como o próprio nome diz, é utilizada para fazer desenhos gráficos de uma wordcloud."
   ]
  },
  {
   "cell_type": "code",
   "execution_count": 2,
   "metadata": {
    "colab": {
     "base_uri": "https://localhost:8080/",
     "height": 504
    },
    "colab_type": "code",
    "id": "Kkm8SKKk9IJ4",
    "outputId": "e5adb738-0fa0-45d2-88dd-26c58c1d52aa"
   },
   "outputs": [
    {
     "name": "stdout",
     "output_type": "stream",
     "text": [
      "Collecting scrapy\n",
      "\u001b[?25l  Downloading https://files.pythonhosted.org/packages/92/2a/5144dacee62e344e691a51e4cdf0f7c4ff5ae86feb9bf0557da26b8bd1d5/Scrapy-2.0.0-py2.py3-none-any.whl (241kB)\n",
      "\u001b[K    100% |████████████████████████████████| 245kB 145kB/s ta 0:00:01\n",
      "\u001b[?25hCollecting parsel>=1.5.0 (from scrapy)\n",
      "  Downloading https://files.pythonhosted.org/packages/86/c8/fc5a2f9376066905dfcca334da2a25842aedfda142c0424722e7c497798b/parsel-1.5.2-py2.py3-none-any.whl\n",
      "Collecting queuelib>=1.4.2 (from scrapy)\n",
      "  Downloading https://files.pythonhosted.org/packages/4c/85/ae64e9145f39dd6d14f8af3fa809a270ef3729f3b90b3c0cf5aa242ab0d4/queuelib-1.5.0-py2.py3-none-any.whl\n",
      "Collecting cssselect>=0.9.1 (from scrapy)\n",
      "  Downloading https://files.pythonhosted.org/packages/3b/d4/3b5c17f00cce85b9a1e6f91096e1cc8e8ede2e1be8e96b87ce1ed09e92c5/cssselect-1.1.0-py2.py3-none-any.whl\n",
      "Collecting w3lib>=1.17.0 (from scrapy)\n",
      "  Downloading https://files.pythonhosted.org/packages/6a/45/1ba17c50a0bb16bd950c9c2b92ec60d40c8ebda9f3371ae4230c437120b6/w3lib-1.21.0-py2.py3-none-any.whl\n",
      "Collecting protego>=0.1.15 (from scrapy)\n",
      "\u001b[?25l  Downloading https://files.pythonhosted.org/packages/db/6e/bf6d5e4d7cf233b785719aaec2c38f027b9c2ed980a0015ec1a1cced4893/Protego-0.1.16.tar.gz (3.2MB)\n",
      "\u001b[K    100% |████████████████████████████████| 3.2MB 501kB/s ta 0:00:011\n",
      "\u001b[?25hCollecting PyDispatcher>=2.0.5 (from scrapy)\n",
      "  Downloading https://files.pythonhosted.org/packages/cd/37/39aca520918ce1935bea9c356bcbb7ed7e52ad4e31bff9b943dfc8e7115b/PyDispatcher-2.0.5.tar.gz\n",
      "Requirement already satisfied: pyOpenSSL>=16.2.0 in /home/estevao/anaconda3/lib/python3.6/site-packages (from scrapy) (17.2.0)\n",
      "Requirement already satisfied: cryptography>=2.0 in /home/estevao/anaconda3/lib/python3.6/site-packages (from scrapy) (2.0.3)\n",
      "Collecting service-identity>=16.0.0 (from scrapy)\n",
      "  Downloading https://files.pythonhosted.org/packages/e9/7c/2195b890023e098f9618d43ebc337d83c8b38d414326685339eb024db2f6/service_identity-18.1.0-py2.py3-none-any.whl\n",
      "Collecting Twisted>=17.9.0 (from scrapy)\n",
      "\u001b[?25l  Downloading https://files.pythonhosted.org/packages/88/e2/0c21fadf0dff02d145db02f24a6ed2c24993e7242d138babbca41de2f5a2/Twisted-19.10.0-cp36-cp36m-manylinux1_x86_64.whl (3.1MB)\n",
      "\u001b[K    100% |████████████████████████████████| 3.1MB 900kB/s ta 0:00:011\n",
      "\u001b[?25hCollecting zope.interface>=4.1.3 (from scrapy)\n",
      "\u001b[?25l  Downloading https://files.pythonhosted.org/packages/78/f4/3e3fa96515029643c68d6ee8af0baabdc52735f322ff5eff98c6c14d2d7c/zope.interface-4.7.2-cp36-cp36m-manylinux1_x86_64.whl (168kB)\n",
      "\u001b[K    100% |████████████████████████████████| 174kB 229kB/s ta 0:00:01\n",
      "\u001b[?25hRequirement already satisfied: lxml>=3.5.0 in /home/estevao/anaconda3/lib/python3.6/site-packages (from scrapy) (4.1.0)\n",
      "Requirement already satisfied: six>=1.5.2 in /home/estevao/anaconda3/lib/python3.6/site-packages (from parsel>=1.5.0->scrapy) (1.11.0)\n",
      "Requirement already satisfied: idna>=2.1 in /home/estevao/anaconda3/lib/python3.6/site-packages (from cryptography>=2.0->scrapy) (2.6)\n",
      "Requirement already satisfied: asn1crypto>=0.21.0 in /home/estevao/anaconda3/lib/python3.6/site-packages (from cryptography>=2.0->scrapy) (0.22.0)\n",
      "Requirement already satisfied: cffi>=1.7 in /home/estevao/anaconda3/lib/python3.6/site-packages (from cryptography>=2.0->scrapy) (1.10.0)\n",
      "Collecting pyasn1-modules (from service-identity>=16.0.0->scrapy)\n",
      "\u001b[?25l  Downloading https://files.pythonhosted.org/packages/95/de/214830a981892a3e286c3794f41ae67a4495df1108c3da8a9f62159b9a9d/pyasn1_modules-0.2.8-py2.py3-none-any.whl (155kB)\n",
      "\u001b[K    100% |████████████████████████████████| 163kB 663kB/s ta 0:00:01\n",
      "\u001b[?25hCollecting attrs>=16.0.0 (from service-identity>=16.0.0->scrapy)\n",
      "  Downloading https://files.pythonhosted.org/packages/a2/db/4313ab3be961f7a763066401fb77f7748373b6094076ae2bda2806988af6/attrs-19.3.0-py2.py3-none-any.whl\n",
      "Collecting pyasn1 (from service-identity>=16.0.0->scrapy)\n",
      "\u001b[?25l  Downloading https://files.pythonhosted.org/packages/62/1e/a94a8d635fa3ce4cfc7f506003548d0a2447ae76fd5ca53932970fe3053f/pyasn1-0.4.8-py2.py3-none-any.whl (77kB)\n",
      "\u001b[K    100% |████████████████████████████████| 81kB 61kB/s eta 0:00:011\n",
      "\u001b[?25hCollecting incremental>=16.10.1 (from Twisted>=17.9.0->scrapy)\n",
      "  Downloading https://files.pythonhosted.org/packages/f5/1d/c98a587dc06e107115cf4a58b49de20b19222c83d75335a192052af4c4b7/incremental-17.5.0-py2.py3-none-any.whl\n",
      "Collecting hyperlink>=17.1.1 (from Twisted>=17.9.0->scrapy)\n",
      "  Downloading https://files.pythonhosted.org/packages/7f/91/e916ca10a2de1cb7101a9b24da546fb90ee14629e23160086cf3361c4fb8/hyperlink-19.0.0-py2.py3-none-any.whl\n",
      "Collecting PyHamcrest>=1.9.0 (from Twisted>=17.9.0->scrapy)\n",
      "\u001b[?25l  Downloading https://files.pythonhosted.org/packages/40/16/e54cc65891f01cb62893540f44ffd3e8dab0a22443e1b438f1a9f5574bee/PyHamcrest-2.0.2-py3-none-any.whl (52kB)\n",
      "\u001b[K    100% |████████████████████████████████| 61kB 476kB/s ta 0:00:01\n",
      "\u001b[?25hCollecting constantly>=15.1 (from Twisted>=17.9.0->scrapy)\n",
      "  Downloading https://files.pythonhosted.org/packages/b9/65/48c1909d0c0aeae6c10213340ce682db01b48ea900a7d9fce7a7910ff318/constantly-15.1.0-py2.py3-none-any.whl\n",
      "Collecting Automat>=0.3.0 (from Twisted>=17.9.0->scrapy)\n",
      "  Downloading https://files.pythonhosted.org/packages/dd/83/5f6f3c1a562674d65efc320257bdc0873ec53147835aeef7762fe7585273/Automat-20.2.0-py2.py3-none-any.whl\n",
      "Requirement already satisfied: setuptools in /home/estevao/anaconda3/lib/python3.6/site-packages (from zope.interface>=4.1.3->scrapy) (36.5.0.post20170921)\n",
      "Requirement already satisfied: pycparser in /home/estevao/anaconda3/lib/python3.6/site-packages (from cffi>=1.7->cryptography>=2.0->scrapy) (2.18)\n",
      "Building wheels for collected packages: protego, PyDispatcher\n",
      "  Running setup.py bdist_wheel for protego ... \u001b[?25ldone\n",
      "\u001b[?25h  Stored in directory: /home/estevao/.cache/pip/wheels/51/01/d1/4a2286a976dccd025ba679acacfe37320540df0f2283ecab12\n",
      "  Running setup.py bdist_wheel for PyDispatcher ... \u001b[?25ldone\n",
      "\u001b[?25h  Stored in directory: /home/estevao/.cache/pip/wheels/88/99/96/cfef6665f9cb1522ee6757ae5955feedf2fe25f1737f91fa7f\n",
      "Successfully built protego PyDispatcher\n",
      "Installing collected packages: w3lib, cssselect, parsel, queuelib, protego, PyDispatcher, pyasn1, pyasn1-modules, attrs, service-identity, incremental, zope.interface, hyperlink, PyHamcrest, constantly, Automat, Twisted, scrapy\n",
      "Successfully installed Automat-20.2.0 PyDispatcher-2.0.5 PyHamcrest-2.0.2 Twisted-19.10.0 attrs-19.3.0 constantly-15.1.0 cssselect-1.1.0 hyperlink-19.0.0 incremental-17.5.0 parsel-1.5.2 protego-0.1.16 pyasn1-0.4.8 pyasn1-modules-0.2.8 queuelib-1.5.0 scrapy-2.0.0 service-identity-18.1.0 w3lib-1.21.0 zope.interface-4.7.2\n",
      "\u001b[33mYou are using pip version 18.1, however version 20.0.2 is available.\n",
      "You should consider upgrading via the 'pip install --upgrade pip' command.\u001b[0m\n",
      "Collecting wordcloud\n",
      "\u001b[?25l  Downloading https://files.pythonhosted.org/packages/7b/f3/1017ea53d88cf39cc06139be4e021d99e3972d6cf635c8598c4cbecbbed0/wordcloud-1.6.0-cp36-cp36m-manylinux1_x86_64.whl (361kB)\n",
      "\u001b[K    100% |████████████████████████████████| 368kB 9.9MB/s ta 0:00:01\n",
      "\u001b[?25hRequirement already satisfied: matplotlib in /home/estevao/anaconda3/lib/python3.6/site-packages (from wordcloud) (2.1.0)\n",
      "Requirement already satisfied: numpy>=1.6.1 in /home/estevao/anaconda3/lib/python3.6/site-packages (from wordcloud) (1.13.3)\n",
      "Requirement already satisfied: pillow in /home/estevao/anaconda3/lib/python3.6/site-packages (from wordcloud) (4.2.1)\n",
      "Requirement already satisfied: six>=1.10 in /home/estevao/anaconda3/lib/python3.6/site-packages (from matplotlib->wordcloud) (1.11.0)\n",
      "Requirement already satisfied: python-dateutil>=2.0 in /home/estevao/anaconda3/lib/python3.6/site-packages (from matplotlib->wordcloud) (2.6.1)\n",
      "Requirement already satisfied: pytz in /home/estevao/anaconda3/lib/python3.6/site-packages (from matplotlib->wordcloud) (2017.2)\n",
      "Requirement already satisfied: cycler>=0.10 in /home/estevao/anaconda3/lib/python3.6/site-packages (from matplotlib->wordcloud) (0.10.0)\n",
      "Requirement already satisfied: pyparsing!=2.0.4,!=2.1.2,!=2.1.6,>=2.0.1 in /home/estevao/anaconda3/lib/python3.6/site-packages (from matplotlib->wordcloud) (2.2.0)\n",
      "Requirement already satisfied: olefile in /home/estevao/anaconda3/lib/python3.6/site-packages (from pillow->wordcloud) (0.44)\n"
     ]
    },
    {
     "name": "stdout",
     "output_type": "stream",
     "text": [
      "Installing collected packages: wordcloud\n",
      "Successfully installed wordcloud-1.6.0\n",
      "\u001b[33mYou are using pip version 18.1, however version 20.0.2 is available.\n",
      "You should consider upgrading via the 'pip install --upgrade pip' command.\u001b[0m\n"
     ]
    }
   ],
   "source": [
    "# Instalando bibliotecas\n",
    "!pip install scrapy\n",
    "!pip install wordcloud"
   ]
  },
  {
   "cell_type": "code",
   "execution_count": 21,
   "metadata": {
    "colab": {},
    "colab_type": "code",
    "collapsed": true,
    "id": "zhFJXY756TLC"
   },
   "outputs": [],
   "source": [
    "import requests\n",
    "from scrapy.http import TextResponse"
   ]
  },
  {
   "cell_type": "code",
   "execution_count": 22,
   "metadata": {
    "colab": {},
    "colab_type": "code",
    "collapsed": true,
    "id": "2cWadvaDohPB"
   },
   "outputs": [],
   "source": [
    "def send_request_to_url(site_url):\n",
    "    # py_res --> Response nativa do Python\n",
    "    py_res = requests.get(site_url)\n",
    "    # print(py_res)\n",
    "\n",
    "    # scrapy_res --> Response própria para ser utilizada no scrapy\n",
    "    scrapy_res = TextResponse(py_res.url, body=py_res.text, encoding='utf-8')\n",
    "\n",
    "    return scrapy_res"
   ]
  },
  {
   "cell_type": "code",
   "execution_count": 23,
   "metadata": {
    "colab": {},
    "colab_type": "code",
    "collapsed": true,
    "id": "OVKr-GeepfVe"
   },
   "outputs": [],
   "source": [
    "import time\n",
    "\n",
    "# Navega pelo website coletando as citações de cada autor\n",
    "\n",
    "\n",
    "def scrape_website():\n",
    "\n",
    "    page_str = ''\n",
    "    quotations = []\n",
    "\n",
    "    # iteramos sobre as paginas até que não exista mais o botao próximo\n",
    "    while(True):\n",
    "\n",
    "        # observacao: estamos fazendo requests em um loop. Adicionaremos um delay\n",
    "        scrapy_res = send_request_to_url(\n",
    "            'http://quotes.toscrape.com/' + page_str)\n",
    "        # Delay de 1s\n",
    "        time.sleep(1)\n",
    "\n",
    "        # Nosso primeiro uso de XPath: recebemos uma list de Selectors em que cada\n",
    "        # elemento \"aponta\" para um resultado da query.\n",
    "        # Cada resultado corresponde a uma tag div cuja \"classe\" é 'quote'\n",
    "        for sel in scrapy_res.xpath('//div[@class=\"quote\"]'):\n",
    "\n",
    "            # Dentro do loop, fazemos o parsing das tags filhas do div corrente\n",
    "            quotation_dict = {}\n",
    "\n",
    "            # Le a citação em si (Tag span, classe \"text\")\n",
    "            quotation_dict['quote'] = (sel\n",
    "                                       .xpath('.//span[@class=\"text\"]/text()')\n",
    "                                       .extract_first())\n",
    "            # Le o autor da citação\n",
    "            quotation_dict['author'] = (sel\n",
    "                                        .xpath('.//small[@class=\"author\"]/text()')\n",
    "                                        .extract_first())\n",
    "\n",
    "            # Le a lista de tags da citação\n",
    "            quotation_dict['tags'] = ('; '.join(sel\n",
    "                                                .xpath('.//a[@class=\"tag\"]/text()')\n",
    "                                                .extract()))\n",
    "\n",
    "            quotations.append(quotation_dict)\n",
    "\n",
    "            # Lê o link que está no botão 'Próximo'\n",
    "            page_str = scrapy_res.xpath(\n",
    "                '//li[@class=\"next\"]/a/@href').extract_first()\n",
    "\n",
    "        # Se o botao 'Próximo' não existir, significa que estamos na ultima página\n",
    "        # Nesse caso, não precisamos mais fazer requests. Interrompemos o loop\n",
    "        if not page_str:\n",
    "            return quotations"
   ]
  },
  {
   "cell_type": "code",
   "execution_count": 24,
   "metadata": {
    "colab": {},
    "colab_type": "code",
    "collapsed": true,
    "id": "pOtFzkGvG0XF"
   },
   "outputs": [],
   "source": [
    "import pandas as pd\n",
    "\n",
    "# Salva as quotations em um arquivo csv atraves do pandas dataframe\n",
    "def save_quotations_to_csv(quotations):\n",
    "\n",
    "    quotations_df = pd.DataFrame(quotations)\n",
    "\n",
    "    # Exibimos o head do dataframe\n",
    "    display(quotations_df.head())\n",
    "\n",
    "    quotations_df.to_csv('quotations.csv', index=False)"
   ]
  },
  {
   "cell_type": "code",
   "execution_count": 25,
   "metadata": {
    "colab": {},
    "colab_type": "code",
    "collapsed": true,
    "id": "9w8bu8kzG3QM"
   },
   "outputs": [],
   "source": [
    "# Recebe a lista de dicts e retorna uma lista contendo todas as tags\n",
    "def generate_tags_list(quotations):\n",
    "\n",
    "    # gera uma lista das tags\n",
    "    tags_list = []\n",
    "    for q in quotations:\n",
    "        q_tags = q['tags'].split(';')\n",
    "        q_tags = map(lambda x: x.strip(), q_tags)\n",
    "        tags_list.extend(q_tags)\n",
    "\n",
    "    # Remove ocorrencias de tags vazias\n",
    "    tags_list = filter(lambda x: x!='', tags_list)\n",
    "\n",
    "    return tags_list"
   ]
  },
  {
   "cell_type": "code",
   "execution_count": 26,
   "metadata": {
    "colab": {},
    "colab_type": "code",
    "collapsed": true,
    "id": "SfV3v_uipnkx"
   },
   "outputs": [],
   "source": [
    "\"\"\"\n",
    "  Função que recebe a lista de dicts com as quotations e retorna um dict \n",
    "  contendo a contagem das ocorrencias das top n tags.\n",
    "\"\"\"\n",
    "def get_top_n_tags(tags_list, n):\n",
    "\n",
    "    # Gera um dicionario com as contagens das tags\n",
    "    occur_dict = dict((x,tags_list.count(x)) for x in set(tags_list))\n",
    "\n",
    "    # Filtra as top n tags mais usadas\n",
    "    occur_dict = {\n",
    "        k: v for k, v in sorted(\n",
    "            occur_dict.items(),\n",
    "            key=lambda item: item[1],\n",
    "            reverse=True\n",
    "        )[:n]\n",
    "    }\n",
    "\n",
    "    return occur_dict"
   ]
  },
  {
   "cell_type": "code",
   "execution_count": 27,
   "metadata": {
    "colab": {},
    "colab_type": "code",
    "collapsed": true,
    "id": "8kWjdBaVG8f3"
   },
   "outputs": [],
   "source": [
    "# biblioteca usada para criar a wordcloud\n",
    "from wordcloud import WordCloud\n",
    "\n",
    "# biblioteca usada para exibir a wordcloud\n",
    "import matplotlib.pyplot as plt\n",
    "\n",
    "\n",
    "def generate_word_cloud(top_tags, tags_list):\n",
    "\n",
    "    # Filtra tags_list para que tenha somente as palavras presentes em occur_dict\n",
    "    text = ' '.join(list(filter(lambda x: x in top_tags, tags_list)))\n",
    "\n",
    "    # Gera e exibe a wordcloud propriamente dita\n",
    "    wordcloud = WordCloud(background_color=\"white\").generate(text)\n",
    "    plt.imshow(wordcloud, interpolation='bilinear')\n",
    "    plt.axis(\"off\")\n",
    "    plt.show()"
   ]
  },
  {
   "cell_type": "code",
   "execution_count": 28,
   "metadata": {
    "colab": {},
    "colab_type": "code",
    "collapsed": true,
    "id": "Sw0MRrcWtUCz"
   },
   "outputs": [],
   "source": [
    "def run_script():\n",
    "\n",
    "    quotations = scrape_website()\n",
    "    save_quotations_to_csv(quotations)\n",
    "    tags_list = list(generate_tags_list(quotations))\n",
    "\n",
    "    top_15_tags = get_top_n_tags(tags_list, 15)\n",
    "\n",
    "    generate_word_cloud(top_15_tags, tags_list)\n"
   ]
  },
  {
   "cell_type": "code",
   "execution_count": 29,
   "metadata": {
    "colab": {
     "base_uri": "https://localhost:8080/",
     "height": 377
    },
    "colab_type": "code",
    "id": "lHhl3_rk8Aot",
    "outputId": "bc7bd9aa-ee36-4143-9ec0-8716e5a93042"
   },
   "outputs": [
    {
     "data": {
      "text/html": [
       "<div>\n",
       "<style>\n",
       "    .dataframe thead tr:only-child th {\n",
       "        text-align: right;\n",
       "    }\n",
       "\n",
       "    .dataframe thead th {\n",
       "        text-align: left;\n",
       "    }\n",
       "\n",
       "    .dataframe tbody tr th {\n",
       "        vertical-align: top;\n",
       "    }\n",
       "</style>\n",
       "<table border=\"1\" class=\"dataframe\">\n",
       "  <thead>\n",
       "    <tr style=\"text-align: right;\">\n",
       "      <th></th>\n",
       "      <th>author</th>\n",
       "      <th>quote</th>\n",
       "      <th>tags</th>\n",
       "    </tr>\n",
       "  </thead>\n",
       "  <tbody>\n",
       "    <tr>\n",
       "      <th>0</th>\n",
       "      <td>Albert Einstein</td>\n",
       "      <td>“The world as we have created it is a process ...</td>\n",
       "      <td>change; deep-thoughts; thinking; world</td>\n",
       "    </tr>\n",
       "    <tr>\n",
       "      <th>1</th>\n",
       "      <td>J.K. Rowling</td>\n",
       "      <td>“It is our choices, Harry, that show what we t...</td>\n",
       "      <td>abilities; choices</td>\n",
       "    </tr>\n",
       "    <tr>\n",
       "      <th>2</th>\n",
       "      <td>Albert Einstein</td>\n",
       "      <td>“There are only two ways to live your life. On...</td>\n",
       "      <td>inspirational; life; live; miracle; miracles</td>\n",
       "    </tr>\n",
       "    <tr>\n",
       "      <th>3</th>\n",
       "      <td>Jane Austen</td>\n",
       "      <td>“The person, be it gentleman or lady, who has ...</td>\n",
       "      <td>aliteracy; books; classic; humor</td>\n",
       "    </tr>\n",
       "    <tr>\n",
       "      <th>4</th>\n",
       "      <td>Marilyn Monroe</td>\n",
       "      <td>“Imperfection is beauty, madness is genius and...</td>\n",
       "      <td>be-yourself; inspirational</td>\n",
       "    </tr>\n",
       "  </tbody>\n",
       "</table>\n",
       "</div>"
      ],
      "text/plain": [
       "            author                                              quote  \\\n",
       "0  Albert Einstein  “The world as we have created it is a process ...   \n",
       "1     J.K. Rowling  “It is our choices, Harry, that show what we t...   \n",
       "2  Albert Einstein  “There are only two ways to live your life. On...   \n",
       "3      Jane Austen  “The person, be it gentleman or lady, who has ...   \n",
       "4   Marilyn Monroe  “Imperfection is beauty, madness is genius and...   \n",
       "\n",
       "                                           tags  \n",
       "0        change; deep-thoughts; thinking; world  \n",
       "1                            abilities; choices  \n",
       "2  inspirational; life; live; miracle; miracles  \n",
       "3              aliteracy; books; classic; humor  \n",
       "4                    be-yourself; inspirational  "
      ]
     },
     "metadata": {},
     "output_type": "display_data"
    },
    {
     "data": {
      "image/png": "[encoded data removed]",
      "text/plain": [
       "<matplotlib.figure.Figure at 0x7f3f5bc5aeb8>"
      ]
     },
     "metadata": {},
     "output_type": "display_data"
    }
   ],
   "source": [
    "run_script()"
   ]
  },
  {
   "cell_type": "markdown",
   "metadata": {
    "colab_type": "text",
    "id": "BqtIy3rbs-SP"
   },
   "source": [
    "# Usando Scrapy\n",
    "\n",
    "Scrapy é uma ferramenta muito versátil para fazer crawlers, apresentando algumas vantagens em relação à pura utilização de requests.\n",
    "\n",
    "Apesar disso, a primeira vista pode parecer mais complicado criar um crawler utilizando scrapy quando não se tem experiência com o mesmo.\n",
    "\n",
    "Abaixo vamos mostrar um crawler feito com scrapy que realiza a mesma coleta feita acima com requests."
   ]
  },
  {
   "cell_type": "code",
   "execution_count": 0,
   "metadata": {
    "colab": {},
    "colab_type": "code",
    "collapsed": true,
    "id": "SxU0uJysw9GC"
   },
   "outputs": [],
   "source": [
    "import scrapy\n",
    "import logging\n",
    "from scrapy.crawler import CrawlerProcess"
   ]
  },
  {
   "cell_type": "code",
   "execution_count": 0,
   "metadata": {
    "colab": {},
    "colab_type": "code",
    "collapsed": true,
    "id": "4QGMFsrSw7vQ"
   },
   "outputs": [],
   "source": [
    "import json\n",
    "\n",
    "class JsonWriterPipeline(object):\n",
    "\n",
    "    def open_spider(self, spider):\n",
    "        self.file = open('quoteresult.jl', 'w')\n",
    "\n",
    "    def close_spider(self, spider):\n",
    "        self.file.close()\n",
    "\n",
    "    def process_item(self, item, spider):\n",
    "        line = json.dumps(dict(item)) + \"\\n\"\n",
    "        self.file.write(line)\n",
    "        return item"
   ]
  },
  {
   "cell_type": "code",
   "execution_count": 0,
   "metadata": {
    "colab": {},
    "colab_type": "code",
    "collapsed": true,
    "id": "fB9jntWrtvE5"
   },
   "outputs": [],
   "source": [
    "class QuotesSpider(scrapy.Spider):\n",
    "    name = \"quotes\"\n",
    "    start_urls = [\n",
    "        'http://quotes.toscrape.com',\n",
    "    ]\n",
    "    custom_settings = {\n",
    "        'LOG_LEVEL': logging.WARNING,\n",
    "        'ITEM_PIPELINES': {'__main__.JsonWriterPipeline': 1}, # Used for pipeline 1\n",
    "        'FEED_FORMAT':'json',                                 # Used for pipeline 2\n",
    "        'FEED_URI': 'quoteresult.json'                        # Used for pipeline 2\n",
    "    }\n",
    "\n",
    "    def parse(self, response):\n",
    "        print(response)\n",
    "        for sel in response.xpath('//div[@class=\"quote\"]'):      \n",
    "            # Dentro do loop, fazemos o parsing das tags filhas do div corrente\n",
    "            quotation_dict = {}\n",
    "\n",
    "            # Le a citação em si (Tag span, classe \"text\")\n",
    "            quotation_dict['quote'] = (sel\n",
    "                                    .xpath('.//span[@class=\"text\"]/text()')\n",
    "                                    .extract_first())\n",
    "            # Le o autor da citação\n",
    "            quotation_dict['author'] = (sel\n",
    "                                        .xpath('.//small[@class=\"author\"]/text()')\n",
    "                                        .extract_first())\n",
    "\n",
    "            # Le a lista de tags da citação\n",
    "            quotation_dict['tags'] = ('; '.join(sel\n",
    "                                                .xpath('.//a[@class=\"tag\"]/text()')\n",
    "                                                .extract()))\n",
    "            yield quotation_dict\n",
    "\n",
    "        # Lê o link que está no botão 'Próximo'\n",
    "        page_str = response.xpath('//li[@class=\"next\"]/a/@href').extract_first()\n",
    "\n",
    "        # Se o botao 'Próximo' não existir, significa que estamos na ultima página\n",
    "        # Nesse caso, não precisamos mais fazer requests. Interrompemos o loop\n",
    "        if page_str is not None:\n",
    "            next_page = response.urljoin(page_str)\n",
    "            yield scrapy.Request(next_page, callback=self.parse)"
   ]
  },
  {
   "cell_type": "code",
   "execution_count": 0,
   "metadata": {
    "colab": {
     "base_uri": "https://localhost:8080/",
     "height": 255
    },
    "colab_type": "code",
    "id": "zyL6Y9jMwv4x",
    "outputId": "c8dba7b2-685a-4e84-badb-d9dae2c5937a"
   },
   "outputs": [
    {
     "name": "stderr",
     "output_type": "stream",
     "text": [
      "2020-02-19 05:04:27 [scrapy.utils.log] INFO: Scrapy 1.8.0 started (bot: scrapybot)\n",
      "2020-02-19 05:04:27 [scrapy.utils.log] INFO: Versions: lxml 4.2.6.0, libxml2 2.9.8, cssselect 1.1.0, parsel 1.5.2, w3lib 1.21.0, Twisted 19.10.0, Python 3.6.9 (default, Nov  7 2019, 10:44:02) - [GCC 8.3.0], pyOpenSSL 19.1.0 (OpenSSL 1.1.1d  10 Sep 2019), cryptography 2.8, Platform Linux-4.14.137+-x86_64-with-Ubuntu-18.04-bionic\n",
      "2020-02-19 05:04:27 [scrapy.crawler] INFO: Overridden settings: {'FEED_FORMAT': 'json', 'FEED_URI': 'quoteresult.json', 'LOG_LEVEL': 30, 'USER_AGENT': 'Mozilla/4.0 (compatible; MSIE 7.0; Windows NT 5.1)'}\n"
     ]
    },
    {
     "name": "stdout",
     "output_type": "stream",
     "text": [
      "<200 http://quotes.toscrape.com>\n",
      "<200 http://quotes.toscrape.com/page/2/>\n",
      "<200 http://quotes.toscrape.com/page/3/>\n",
      "<200 http://quotes.toscrape.com/page/4/>\n",
      "<200 http://quotes.toscrape.com/page/5/>\n",
      "<200 http://quotes.toscrape.com/page/6/>\n",
      "<200 http://quotes.toscrape.com/page/7/>\n",
      "<200 http://quotes.toscrape.com/page/8/>\n",
      "<200 http://quotes.toscrape.com/page/9/>\n",
      "<200 http://quotes.toscrape.com/page/10/>\n"
     ]
    }
   ],
   "source": [
    "process = CrawlerProcess({\n",
    "    'USER_AGENT': 'Mozilla/4.0 (compatible; MSIE 7.0; Windows NT 5.1)'\n",
    "})\n",
    "\n",
    "process.crawl(QuotesSpider)\n",
    "process.start()"
   ]
  },
  {
   "cell_type": "code",
   "execution_count": 0,
   "metadata": {
    "colab": {},
    "colab_type": "code",
    "collapsed": true,
    "id": "ROFMXB2Vy-yY"
   },
   "outputs": [],
   "source": [
    "quoteresult_scrapy = []\n",
    "with open('quoteresult.jl', 'r') as f:\n",
    "    for line in f:\n",
    "        quoteresult_scrapy.append(json.loads(line))"
   ]
  },
  {
   "cell_type": "code",
   "execution_count": 0,
   "metadata": {
    "colab": {
     "base_uri": "https://localhost:8080/",
     "height": 34
    },
    "colab_type": "code",
    "id": "14iRYS07z6cT",
    "outputId": "6dee4333-1ef9-40ac-dffb-c72fb088327a"
   },
   "outputs": [
    {
     "data": {
      "text/plain": [
       "100"
      ]
     },
     "execution_count": 18,
     "metadata": {
      "tags": []
     },
     "output_type": "execute_result"
    }
   ],
   "source": [
    "len(quoteresult_scrapy)"
   ]
  },
  {
   "cell_type": "code",
   "execution_count": 0,
   "metadata": {
    "colab": {
     "base_uri": "https://localhost:8080/",
     "height": 521
    },
    "colab_type": "code",
    "id": "asCPUl53z_C0",
    "outputId": "f8ffb776-cec7-44a4-85f3-8c13314e71c0"
   },
   "outputs": [
    {
     "data": {
      "text/plain": [
       "[{'author': 'Albert Einstein',\n",
       "  'quote': '“The world as we have created it is a process of our thinking. It cannot be changed without changing our thinking.”',\n",
       "  'tags': 'change; deep-thoughts; thinking; world'},\n",
       " {'author': 'J.K. Rowling',\n",
       "  'quote': '“It is our choices, Harry, that show what we truly are, far more than our abilities.”',\n",
       "  'tags': 'abilities; choices'},\n",
       " {'author': 'Albert Einstein',\n",
       "  'quote': '“There are only two ways to live your life. One is as though nothing is a miracle. The other is as though everything is a miracle.”',\n",
       "  'tags': 'inspirational; life; live; miracle; miracles'},\n",
       " {'author': 'Jane Austen',\n",
       "  'quote': '“The person, be it gentleman or lady, who has not pleasure in a good novel, must be intolerably stupid.”',\n",
       "  'tags': 'aliteracy; books; classic; humor'},\n",
       " {'author': 'Marilyn Monroe',\n",
       "  'quote': \"“Imperfection is beauty, madness is genius and it's better to be absolutely ridiculous than absolutely boring.”\",\n",
       "  'tags': 'be-yourself; inspirational'},\n",
       " {'author': 'Albert Einstein',\n",
       "  'quote': '“Try not to become a man of success. Rather become a man of value.”',\n",
       "  'tags': 'adulthood; success; value'},\n",
       " {'author': 'André Gide',\n",
       "  'quote': '“It is better to be hated for what you are than to be loved for what you are not.”',\n",
       "  'tags': 'life; love'},\n",
       " {'author': 'Thomas A. Edison',\n",
       "  'quote': \"“I have not failed. I've just found 10,000 ways that won't work.”\",\n",
       "  'tags': 'edison; failure; inspirational; paraphrased'},\n",
       " {'author': 'Eleanor Roosevelt',\n",
       "  'quote': \"“A woman is like a tea bag; you never know how strong it is until it's in hot water.”\",\n",
       "  'tags': 'misattributed-eleanor-roosevelt'},\n",
       " {'author': 'Steve Martin',\n",
       "  'quote': '“A day without sunshine is like, you know, night.”',\n",
       "  'tags': 'humor; obvious; simile'}]"
      ]
     },
     "execution_count": 19,
     "metadata": {
      "tags": []
     },
     "output_type": "execute_result"
    }
   ],
   "source": [
    "quoteresult_scrapy[:10]"
   ]
  },
  {
   "cell_type": "markdown",
   "metadata": {
    "colab_type": "text",
    "id": "j0VC_NnqlmL_"
   },
   "source": [
    "## Crawleando sites mais complexos\n",
    "\n",
    "### Skyscanner\n",
    "\n",
    "O site www.skyscanner.com é uma excelente ferramenta para acompanhar informações de voos em tempo real. Esses dados podem ser bastante valiosos e não faltam razões para querer obtê-los. \n",
    "Neste exemplo, iremos mostrar uma técnica ligeiramente diferente de web scraping.\n",
    "\n",
    "Ao invés de fazermos consultas ao HTML da página usando XPath, vamos clonar as requests feitas pelo browser de forma a obter apenas aquilo que nos interessa."
   ]
  },
  {
   "cell_type": "code",
   "execution_count": 0,
   "metadata": {
    "colab": {},
    "colab_type": "code",
    "collapsed": true,
    "id": "KResXTr2vEIL"
   },
   "outputs": [],
   "source": [
    "import json\n",
    "import pandas as pd\n",
    "import seaborn as sns\n",
    "import matplotlib.pyplot as plt"
   ]
  },
  {
   "cell_type": "markdown",
   "metadata": {
    "colab_type": "text",
    "id": "Yt-bieyYdEe9"
   },
   "source": [
    "Uma ferramenta muito útil para encontrar a request exata feita por um site para obter os dados a serem exibidos é o *browser console*.\n",
    "\n",
    "Por exemplo, suponham que queiramos obter os dados de chegada e partida de um certo aeroporto, como o aeroporto de Congonhas.\n",
    "\n",
    "Após pesquisar no site Skyscanner, ou mesmo fazendo uma busca na internet, chegamos à seguinte URL:"
   ]
  },
  {
   "cell_type": "code",
   "execution_count": 0,
   "metadata": {
    "colab": {},
    "colab_type": "code",
    "collapsed": true,
    "id": "vpY-WTKIee_O"
   },
   "outputs": [],
   "source": [
    "url = 'https://www.skyscanner.com.br/passagens-aereas/chegadas-partidas/cgh/sao-paulo---congonhas-chegadas-partidas'"
   ]
  },
  {
   "cell_type": "markdown",
   "metadata": {
    "colab_type": "text",
    "id": "x_pdFeFFeo_z"
   },
   "source": [
    "Essa URL contém todas as chegadas e partidas do aeroporto de Congonhas no dia de hoje. Utilizando a técnica vista anteriormente, seria possível fazer o scraping dessa página para obter todas as informações dispostas através dos elementos dispostos na própria página.\n",
    "\n",
    "Mas será que existe um jeito melhor?\n",
    "\n",
    "Ao abrir o *browser console* e abrir a aba *network* é possível ver as requisições feitas pelo site. (Caso a página esteja em branco, basta recarregá-la para que as requisições sejam refeitas)\n",
    "\n",
    "É possível ainda filtrar essas requisições pelo filtro XHR, que, segundo a Wikipédia, é uma API na forma de um objeto, cujos métodos transferem dados entre um *browser* e um servidor.\n",
    "\n",
    "Dados são exatamente o nosso objetivo ao fazer scraping do site. Portanto podemos tentar verificar se alguns desses dados estão sendo requisitados diretamente nessa aba, de forma que a repetir a requisição e obter os dados sem precisar fazer o scraping.\n",
    "\n",
    "Como o número de requisições listadas é muito alta, uma boa dica é pesquisar algum elemento conhecido do dado que você está buscando na aba de pesquisa."
   ]
  },
  {
   "cell_type": "markdown",
   "metadata": {
    "colab_type": "text",
    "id": "o9P9pVxChdzr"
   },
   "source": [
    "Ao encontrar a requisição que pede um arquivo JSON com os dados desejados, podemos estrair a requisição em cURL e convertê-la para outra linguagem caso necessário.\n",
    "\n",
    "Um bom site para isso é o https://curl.trillworks.com/#python."
   ]
  },
  {
   "cell_type": "markdown",
   "metadata": {
    "colab_type": "text",
    "id": "DGO4-qJ4iDJV"
   },
   "source": [
    "A requisição obtida foi essa abaixo."
   ]
  },
  {
   "cell_type": "code",
   "execution_count": 0,
   "metadata": {
    "colab": {},
    "colab_type": "code",
    "collapsed": true,
    "id": "Jn4wsaMoh-pS"
   },
   "outputs": [],
   "source": [
    "import requests\n",
    "\n",
    "headers = {\n",
    "    'authority': 'gateway.skyscanner.net',\n",
    "    'user-agent': 'Mozilla/5.0 (Linux; Android 6.0; Nexus 5 Build/MRA58N) AppleWebKit/537.36 (KHTML, like Gecko) Chrome/79.0.3945.130 Mobile Safari/537.36',\n",
    "    'accept': '*/*',\n",
    "    'origin': 'https://www.skyscanner.com.br',\n",
    "    'sec-fetch-site': 'cross-site',\n",
    "    'sec-fetch-mode': 'cors',\n",
    "    'referer': 'https://www.skyscanner.com.br/passagens-aereas/chegadas-partidas/gru/internacional-de-sao-paulo-guarulhos-chegadas-partidas',\n",
    "    'accept-encoding': 'gzip, deflate, br',\n",
    "    'accept-language': 'en-US,en;q=0.9,pt-BR;q=0.8,pt;q=0.7,es-ES;q=0.6,es;q=0.5',\n",
    "}\n",
    "\n",
    "params = (\n",
    "    ('locale', 'pt-BR'),\n",
    ")\n",
    "\n",
    "response = requests.get('https://gateway.skyscanner.net/arrival-departure-svc/api/airports/GRU/statuses', headers=headers, params=params)"
   ]
  },
  {
   "cell_type": "markdown",
   "metadata": {
    "colab_type": "text",
    "id": "4QPDahXdiZnY"
   },
   "source": [
    "Muitos dos elementos são geralmente desnecessários. Existem sites mais complicados que exigem que você guarde os cookies, user-agent, ou outra informação qualquer para acessá-los, mas esse náo é um deles. Portanto podemos simplificas a requisição."
   ]
  },
  {
   "cell_type": "code",
   "execution_count": 0,
   "metadata": {
    "colab": {},
    "colab_type": "code",
    "collapsed": true,
    "id": "COb5UQqbifRW"
   },
   "outputs": [],
   "source": [
    "response = requests.get('https://gateway.skyscanner.net/arrival-departure-svc/api/airports/GRU/statuses')"
   ]
  },
  {
   "cell_type": "markdown",
   "metadata": {
    "colab_type": "text",
    "id": "aM-GkAmQindU"
   },
   "source": [
    "Foram obtidos os dados em estruturados em JSON, que elimina a maior parte do trabalho feito em scraping."
   ]
  },
  {
   "cell_type": "code",
   "execution_count": 0,
   "metadata": {
    "colab": {
     "base_uri": "https://localhost:8080/",
     "height": 34
    },
    "colab_type": "code",
    "id": "t9x4fwthijXj",
    "outputId": "fab8698e-923f-4ccc-8bbf-cc418dbd688f"
   },
   "outputs": [
    {
     "data": {
      "text/plain": [
       "dict_keys(['airportInfo', 'arrivals', 'departures'])"
      ]
     },
     "execution_count": 24,
     "metadata": {
      "tags": []
     },
     "output_type": "execute_result"
    }
   ],
   "source": [
    "json.loads(response.text).keys()"
   ]
  },
  {
   "cell_type": "markdown",
   "metadata": {
    "colab_type": "text",
    "id": "AlDTzz0Li5kY"
   },
   "source": [
    "Agora suponha que você deseje obter esses mesmos dados, mas para todos os aeroportos do Brasil. Ao observar a URL da requisição, é possível notar que o código do aeroporto faz parte da mesma. Assim, é de se esperar que ao colocar diferentes códigos de aeroportos, obtenha-se as informações para os respectivos aeroportos."
   ]
  },
  {
   "cell_type": "code",
   "execution_count": 0,
   "metadata": {
    "colab": {},
    "colab_type": "code",
    "collapsed": true,
    "id": "jvhrBsCldCim"
   },
   "outputs": [],
   "source": [
    "url = 'https://gateway.skyscanner.net/arrival-departure-svc/api/airports/'"
   ]
  },
  {
   "cell_type": "code",
   "execution_count": 0,
   "metadata": {
    "colab": {},
    "colab_type": "code",
    "collapsed": true,
    "id": "wri8nYf-CrdY"
   },
   "outputs": [],
   "source": [
    "# Aqui se encontra uma lista com todos os aeroportos do Brasil.\n",
    "# Fazer as requisições para todos eles pode demorar um bom tempo, caso não\n",
    "# deseje ficar esperando muito tempo, use a célula de baixo para pesquisar menos aeroportos.\n",
    "\n",
    "# airports = ['AJU', 'AQA', 'ARU', 'ATM', 'AUX', 'BAU', 'BEL', 'BPS', 'BRA',\n",
    "#             'BSB', 'BVB', 'BZC', 'CAF', 'CAW', 'CFB', 'CFO', 'CGB', 'CGH',\n",
    "#             'CGR', 'CIZ', 'CKS', 'CLV', 'CMG', 'CNF', 'CPV', 'CWB', 'CXJ',\n",
    "#             'CZS', 'DIQ', 'ERM', 'ERN', 'FEN', 'FLN', 'FOR', 'GEL', 'GIG',\n",
    "#             'GRU', 'GVR', 'GYN', 'IGU', 'IMP', 'IOS', 'IPN', 'ITB', 'IZA',\n",
    "#             'JDF', 'JDO', 'JJD', 'JJG', 'JOI', 'JPA', 'JTC', 'LBR', 'LDB',\n",
    "#             'MAB', 'MAO', 'MCP', 'MCZ', 'MEA', 'MGF', 'MII', 'MOC', 'NAT',\n",
    "#             'NVT', 'PET', 'PFB', 'PIN', 'PLU', 'PMW', 'PNZ', 'POA', 'PPB',\n",
    "#             'PVH', 'RAO', 'RBR', 'REC', 'RIA', 'RIG', 'ROO', 'SDU', 'SJK',\n",
    "#             'SJL', 'SJP', 'SLZ', 'SSA', 'STM', 'TFF', 'THE', 'TJL', 'TMT',\n",
    "#             'UDI', 'VAG', 'VCP', 'VDC', 'VIX', 'XAP']"
   ]
  },
  {
   "cell_type": "code",
   "execution_count": 0,
   "metadata": {
    "colab": {},
    "colab_type": "code",
    "collapsed": true,
    "id": "44qS16mb8S6H"
   },
   "outputs": [],
   "source": [
    "# Um subconjunto dos aeroportos do Brasil.\n",
    "airports = ['AJU', 'AQA', 'ARU', 'ATM', 'AUX', 'BAU', 'BEL', 'BPS', 'BRA',\n",
    "           'BSB', 'BVB', 'BZC', 'CAF', 'CAW', 'CFB', 'CFO', 'CGB', 'CGH',\n",
    "           'CGR', 'CIZ', 'CKS', 'CLV', 'CMG', 'CNF', 'CPV', 'CWB', 'CXJ',\n",
    "           'CZS', 'DIQ', 'ERM', 'ERN', 'FEN', 'FLN', 'FOR', 'GEL', 'GIG',\n",
    "           'GRU', 'GVR', 'GYN', 'IGU', 'IMP', 'IOS', 'IPN', 'ITB', 'IZA']"
   ]
  },
  {
   "cell_type": "markdown",
   "metadata": {
    "colab_type": "text",
    "id": "8kEK4FgaBQjo"
   },
   "source": [
    "Abaixo nós fazemos uma requisição para cada aeroporto e guardamos todas as informações em uma lista."
   ]
  },
  {
   "cell_type": "code",
   "execution_count": 0,
   "metadata": {
    "colab": {},
    "colab_type": "code",
    "collapsed": true,
    "id": "UkNcYANvEgZS"
   },
   "outputs": [],
   "source": [
    "all_airports = []\n",
    "for airport in airports:\n",
    "    response = requests.get(f'{url}{airport}/statuses')\n",
    "    airport_data = json.loads(response.text)\n",
    "    all_airports.append(airport_data)"
   ]
  },
  {
   "cell_type": "markdown",
   "metadata": {
    "colab_type": "text",
    "id": "Xbkdkbe0j2Jl"
   },
   "source": [
    "Também é possível que você queira guardar os dados exatamente como eles vieram, sem fazer nenhum processamento a mais."
   ]
  },
  {
   "cell_type": "code",
   "execution_count": 0,
   "metadata": {
    "colab": {},
    "colab_type": "code",
    "collapsed": true,
    "id": "NIvVjgKrK7e1"
   },
   "outputs": [],
   "source": [
    "with open('airport_data.json', 'w') as f:\n",
    "    json.dump(all_airports, f)"
   ]
  },
  {
   "cell_type": "code",
   "execution_count": 0,
   "metadata": {
    "colab": {},
    "colab_type": "code",
    "collapsed": true,
    "id": "X36Hx2OiMKmX"
   },
   "outputs": [],
   "source": [
    "with open('airport_data.json', 'r') as f:\n",
    "    all_airports = json.load(f)"
   ]
  },
  {
   "cell_type": "code",
   "execution_count": 0,
   "metadata": {
    "colab": {},
    "colab_type": "code",
    "collapsed": true,
    "id": "cyzM-tAA-Fpl"
   },
   "outputs": [],
   "source": [
    "def format_airport_data(airport_data):\n",
    "    airport_info = {}\n",
    "\n",
    "    airport_info['airport_id'] = airport_data['airportInfo']['iataCode']\n",
    "    airport_info['name'] = airport_data['airportInfo']['name']\n",
    "    airlines = set()\n",
    "    for arrival in airport_data['arrivals']:\n",
    "        airlines.add(arrival['airlineId'])\n",
    "\n",
    "    for departure in airport_data['departures']:\n",
    "        airlines.add(departure['airlineId'])\n",
    "    airport_info['num_of_airlines'] = len(airlines)\n",
    "    airport_info['airlines'] = list(airlines)\n",
    "\n",
    "    airport_info['num_of_arrivals'] = len(airport_data['arrivals'])\n",
    "    airport_info['num_of_departures'] = len(airport_data['departures'])\n",
    "    return airport_info"
   ]
  },
  {
   "cell_type": "code",
   "execution_count": 0,
   "metadata": {
    "colab": {},
    "colab_type": "code",
    "collapsed": true,
    "id": "wETutqb69PAl"
   },
   "outputs": [],
   "source": [
    "all_airports_info = []\n",
    "for airport in all_airports:\n",
    "    all_airports_info.append(format_airport_data(airport))"
   ]
  },
  {
   "cell_type": "code",
   "execution_count": 0,
   "metadata": {
    "colab": {},
    "colab_type": "code",
    "collapsed": true,
    "id": "KSrTRA0FBJFb"
   },
   "outputs": [],
   "source": [
    "df_airports = pd.DataFrame(all_airports_info)"
   ]
  },
  {
   "cell_type": "code",
   "execution_count": 0,
   "metadata": {
    "colab": {
     "base_uri": "https://localhost:8080/",
     "height": 195
    },
    "colab_type": "code",
    "id": "eyneEEezBj8t",
    "outputId": "616afd9e-2526-4114-8d09-4afff98ff241"
   },
   "outputs": [
    {
     "data": {
      "text/html": [
       "<div>\n",
       "<style scoped>\n",
       "    .dataframe tbody tr th:only-of-type {\n",
       "        vertical-align: middle;\n",
       "    }\n",
       "\n",
       "    .dataframe tbody tr th {\n",
       "        vertical-align: top;\n",
       "    }\n",
       "\n",
       "    .dataframe thead th {\n",
       "        text-align: right;\n",
       "    }\n",
       "</style>\n",
       "<table border=\"1\" class=\"dataframe\">\n",
       "  <thead>\n",
       "    <tr style=\"text-align: right;\">\n",
       "      <th></th>\n",
       "      <th>airport_id</th>\n",
       "      <th>name</th>\n",
       "      <th>num_of_airlines</th>\n",
       "      <th>airlines</th>\n",
       "      <th>num_of_arrivals</th>\n",
       "      <th>num_of_departures</th>\n",
       "    </tr>\n",
       "  </thead>\n",
       "  <tbody>\n",
       "    <tr>\n",
       "      <th>0</th>\n",
       "      <td>AJU</td>\n",
       "      <td>Aracaju</td>\n",
       "      <td>3</td>\n",
       "      <td>[AD, G3, LA]</td>\n",
       "      <td>15</td>\n",
       "      <td>13</td>\n",
       "    </tr>\n",
       "    <tr>\n",
       "      <th>1</th>\n",
       "      <td>AQA</td>\n",
       "      <td>Araraquara</td>\n",
       "      <td>1</td>\n",
       "      <td>[AD]</td>\n",
       "      <td>1</td>\n",
       "      <td>1</td>\n",
       "    </tr>\n",
       "    <tr>\n",
       "      <th>2</th>\n",
       "      <td>ARU</td>\n",
       "      <td>Aracatuba</td>\n",
       "      <td>3</td>\n",
       "      <td>[AD, 84, G3]</td>\n",
       "      <td>5</td>\n",
       "      <td>5</td>\n",
       "    </tr>\n",
       "    <tr>\n",
       "      <th>3</th>\n",
       "      <td>ATM</td>\n",
       "      <td>Altamira</td>\n",
       "      <td>2</td>\n",
       "      <td>[AD, JR]</td>\n",
       "      <td>3</td>\n",
       "      <td>3</td>\n",
       "    </tr>\n",
       "    <tr>\n",
       "      <th>4</th>\n",
       "      <td>AUX</td>\n",
       "      <td>Araguaina</td>\n",
       "      <td>1</td>\n",
       "      <td>[84]</td>\n",
       "      <td>1</td>\n",
       "      <td>1</td>\n",
       "    </tr>\n",
       "  </tbody>\n",
       "</table>\n",
       "</div>"
      ],
      "text/plain": [
       "  airport_id        name  ...  num_of_arrivals num_of_departures\n",
       "0        AJU     Aracaju  ...               15                13\n",
       "1        AQA  Araraquara  ...                1                 1\n",
       "2        ARU   Aracatuba  ...                5                 5\n",
       "3        ATM    Altamira  ...                3                 3\n",
       "4        AUX   Araguaina  ...                1                 1\n",
       "\n",
       "[5 rows x 6 columns]"
      ]
     },
     "execution_count": 34,
     "metadata": {
      "tags": []
     },
     "output_type": "execute_result"
    }
   ],
   "source": [
    "df_airports.head()"
   ]
  },
  {
   "cell_type": "code",
   "execution_count": 0,
   "metadata": {
    "colab": {
     "base_uri": "https://localhost:8080/",
     "height": 404
    },
    "colab_type": "code",
    "id": "S-dvcCpxBRfP",
    "outputId": "61edfcb3-b0d0-453d-8831-2d2104d50e6e"
   },
   "outputs": [
    {
     "data": {
      "image/png": "[encoded data removed]",
      "text/plain": [
       "<Figure size 720x432 with 1 Axes>"
      ]
     },
     "metadata": {
      "tags": []
     },
     "output_type": "display_data"
    }
   ],
   "source": [
    "plt.figure(figsize=(10, 6))\n",
    "sns.distplot(df_airports['num_of_arrivals'], kde=False, hist_kws={'edgecolor':'black'})\n",
    "\n",
    "plt.title('How many daily arrivals are there in an airport?')\n",
    "plt.ylabel('# of airports')\n",
    "plt.xlabel('# of arrivals')\n",
    "plt.grid(True)\n",
    "plt.show()"
   ]
  },
  {
   "cell_type": "code",
   "execution_count": 0,
   "metadata": {
    "colab": {
     "base_uri": "https://localhost:8080/",
     "height": 343
    },
    "colab_type": "code",
    "id": "43Hl6OlNCFAp",
    "outputId": "0ac6a328-fd85-4c53-b504-c51c24ae2ee8"
   },
   "outputs": [
    {
     "data": {
      "text/html": [
       "<div>\n",
       "<style scoped>\n",
       "    .dataframe tbody tr th:only-of-type {\n",
       "        vertical-align: middle;\n",
       "    }\n",
       "\n",
       "    .dataframe tbody tr th {\n",
       "        vertical-align: top;\n",
       "    }\n",
       "\n",
       "    .dataframe thead th {\n",
       "        text-align: right;\n",
       "    }\n",
       "</style>\n",
       "<table border=\"1\" class=\"dataframe\">\n",
       "  <thead>\n",
       "    <tr style=\"text-align: right;\">\n",
       "      <th></th>\n",
       "      <th>airport_id</th>\n",
       "      <th>name</th>\n",
       "      <th>num_of_airlines</th>\n",
       "      <th>airlines</th>\n",
       "      <th>num_of_arrivals</th>\n",
       "      <th>num_of_departures</th>\n",
       "    </tr>\n",
       "  </thead>\n",
       "  <tbody>\n",
       "    <tr>\n",
       "      <th>36</th>\n",
       "      <td>GRU</td>\n",
       "      <td>Sao Paulo Guarulhos</td>\n",
       "      <td>31</td>\n",
       "      <td>[H2, ~F, G3, IB, TP, AT, AA, KL, EK, ET, AM, L...</td>\n",
       "      <td>408</td>\n",
       "      <td>404</td>\n",
       "    </tr>\n",
       "    <tr>\n",
       "      <th>17</th>\n",
       "      <td>CGH</td>\n",
       "      <td>Sao Paulo Congonhas</td>\n",
       "      <td>4</td>\n",
       "      <td>[AD, 84, G3, LA]</td>\n",
       "      <td>268</td>\n",
       "      <td>270</td>\n",
       "    </tr>\n",
       "    <tr>\n",
       "      <th>9</th>\n",
       "      <td>BSB</td>\n",
       "      <td>Brasilia</td>\n",
       "      <td>8</td>\n",
       "      <td>[, TP, AA, AD, 84, G3, LA, CM]</td>\n",
       "      <td>193</td>\n",
       "      <td>186</td>\n",
       "    </tr>\n",
       "    <tr>\n",
       "      <th>23</th>\n",
       "      <td>CNF</td>\n",
       "      <td>Belo Horizonte Tancredo Neves Int'l.</td>\n",
       "      <td>6</td>\n",
       "      <td>[, TP, AD, G3, LA, CM]</td>\n",
       "      <td>145</td>\n",
       "      <td>143</td>\n",
       "    </tr>\n",
       "    <tr>\n",
       "      <th>35</th>\n",
       "      <td>GIG</td>\n",
       "      <td>Rio De Janeiro Internacional</td>\n",
       "      <td>24</td>\n",
       "      <td>[, H2, ~F, 77, G3, IB, TP, AA, KL, EK, LA, UA,...</td>\n",
       "      <td>133</td>\n",
       "      <td>132</td>\n",
       "    </tr>\n",
       "    <tr>\n",
       "      <th>25</th>\n",
       "      <td>CWB</td>\n",
       "      <td>Curitiba</td>\n",
       "      <td>5</td>\n",
       "      <td>[AD, CV, G3, LA, AR]</td>\n",
       "      <td>93</td>\n",
       "      <td>93</td>\n",
       "    </tr>\n",
       "    <tr>\n",
       "      <th>33</th>\n",
       "      <td>FOR</td>\n",
       "      <td>Fortaleza</td>\n",
       "      <td>6</td>\n",
       "      <td>[TP, AF, AD, 84, G3, LA]</td>\n",
       "      <td>76</td>\n",
       "      <td>66</td>\n",
       "    </tr>\n",
       "    <tr>\n",
       "      <th>32</th>\n",
       "      <td>FLN</td>\n",
       "      <td>Florianopolis</td>\n",
       "      <td>5</td>\n",
       "      <td>[H2, AD, G3, LA, AR]</td>\n",
       "      <td>48</td>\n",
       "      <td>47</td>\n",
       "    </tr>\n",
       "    <tr>\n",
       "      <th>6</th>\n",
       "      <td>BEL</td>\n",
       "      <td>Belem</td>\n",
       "      <td>5</td>\n",
       "      <td>[AD, G3, LA, UA, JR]</td>\n",
       "      <td>43</td>\n",
       "      <td>41</td>\n",
       "    </tr>\n",
       "    <tr>\n",
       "      <th>16</th>\n",
       "      <td>CGB</td>\n",
       "      <td>Cuiaba</td>\n",
       "      <td>4</td>\n",
       "      <td>[, AD, G3, LA]</td>\n",
       "      <td>42</td>\n",
       "      <td>41</td>\n",
       "    </tr>\n",
       "  </tbody>\n",
       "</table>\n",
       "</div>"
      ],
      "text/plain": [
       "   airport_id  ... num_of_departures\n",
       "36        GRU  ...               404\n",
       "17        CGH  ...               270\n",
       "9         BSB  ...               186\n",
       "23        CNF  ...               143\n",
       "35        GIG  ...               132\n",
       "25        CWB  ...                93\n",
       "33        FOR  ...                66\n",
       "32        FLN  ...                47\n",
       "6         BEL  ...                41\n",
       "16        CGB  ...                41\n",
       "\n",
       "[10 rows x 6 columns]"
      ]
     },
     "execution_count": 36,
     "metadata": {
      "tags": []
     },
     "output_type": "execute_result"
    }
   ],
   "source": [
    "df_airports.sort_values(by='num_of_arrivals', ascending=False).head(10)"
   ]
  },
  {
   "cell_type": "code",
   "execution_count": 0,
   "metadata": {
    "colab": {},
    "colab_type": "code",
    "collapsed": true,
    "id": "Y2Ny92g0HXXl"
   },
   "outputs": [],
   "source": [
    "def format_flight(airport):\n",
    "    all_formatted_data = []\n",
    "    for data in airport:\n",
    "        formatted_data = {}\n",
    "        formatted_data['airlineId'] = data['airlineId']\n",
    "        formatted_data['airlineName'] = data['airlineName']\n",
    "        formatted_data['flightNumber'] = data['flightNumber']\n",
    "        formatted_data['arrivalAirportCode'] = data['arrivalAirportCode']\n",
    "        formatted_data['departureAirportCode'] = data['departureAirportCode']\n",
    "\n",
    "        formatted_data['localisedScheduledDepartureTime'] = data['localisedScheduledDepartureTime']\n",
    "        formatted_data['localisedScheduledArrivalTime'] = data['localisedScheduledArrivalTime']\n",
    "\n",
    "        formatted_data['localisedEstimatedDepartureTime'] = data['localisedEstimatedDepartureTime']\n",
    "        formatted_data['localisedEstimatedArrivalTime'] = data['localisedEstimatedArrivalTime']\n",
    "\n",
    "        all_formatted_data.append(formatted_data)\n",
    "    return all_formatted_data"
   ]
  },
  {
   "cell_type": "code",
   "execution_count": 0,
   "metadata": {
    "colab": {},
    "colab_type": "code",
    "collapsed": true,
    "id": "fQ7Adw3LlZqF"
   },
   "outputs": [],
   "source": [
    "arrival_data = []\n",
    "\n",
    "for airport in all_airports:\n",
    "    arrival_data.extend(format_flight(airport['arrivals']))"
   ]
  },
  {
   "cell_type": "code",
   "execution_count": 0,
   "metadata": {
    "colab": {},
    "colab_type": "code",
    "collapsed": true,
    "id": "5pVmM56ZvS6O"
   },
   "outputs": [],
   "source": [
    "df_arrival_data = pd.DataFrame(arrival_data)"
   ]
  },
  {
   "cell_type": "code",
   "execution_count": 0,
   "metadata": {
    "colab": {},
    "colab_type": "code",
    "collapsed": true,
    "id": "4jYLZf82GmBH"
   },
   "outputs": [],
   "source": [
    "df_arrival_data[['localisedScheduledDepartureTime', 'localisedScheduledArrivalTime', 'localisedEstimatedDepartureTime', 'localisedEstimatedArrivalTime']] = df_arrival_data[['localisedScheduledDepartureTime', 'localisedScheduledArrivalTime', 'localisedEstimatedDepartureTime', 'localisedEstimatedArrivalTime']].apply(pd.to_datetime)"
   ]
  },
  {
   "cell_type": "code",
   "execution_count": 0,
   "metadata": {
    "colab": {
     "base_uri": "https://localhost:8080/",
     "height": 522
    },
    "colab_type": "code",
    "id": "E_9U1z0LG8dW",
    "outputId": "617651b7-1ea5-40ca-84f7-bab4fa80e145"
   },
   "outputs": [
    {
     "data": {
      "text/html": [
       "<div>\n",
       "<style scoped>\n",
       "    .dataframe tbody tr th:only-of-type {\n",
       "        vertical-align: middle;\n",
       "    }\n",
       "\n",
       "    .dataframe tbody tr th {\n",
       "        vertical-align: top;\n",
       "    }\n",
       "\n",
       "    .dataframe thead th {\n",
       "        text-align: right;\n",
       "    }\n",
       "</style>\n",
       "<table border=\"1\" class=\"dataframe\">\n",
       "  <thead>\n",
       "    <tr style=\"text-align: right;\">\n",
       "      <th></th>\n",
       "      <th>airlineId</th>\n",
       "      <th>airlineName</th>\n",
       "      <th>flightNumber</th>\n",
       "      <th>arrivalAirportCode</th>\n",
       "      <th>departureAirportCode</th>\n",
       "      <th>localisedScheduledDepartureTime</th>\n",
       "      <th>localisedScheduledArrivalTime</th>\n",
       "      <th>localisedEstimatedDepartureTime</th>\n",
       "      <th>localisedEstimatedArrivalTime</th>\n",
       "    </tr>\n",
       "  </thead>\n",
       "  <tbody>\n",
       "    <tr>\n",
       "      <th>0</th>\n",
       "      <td>G3</td>\n",
       "      <td>GOL Linhas Aéreas</td>\n",
       "      <td>G31504</td>\n",
       "      <td>AJU</td>\n",
       "      <td>GRU</td>\n",
       "      <td>2020-02-18 21:50:00</td>\n",
       "      <td>2020-02-19 00:30:00</td>\n",
       "      <td>2020-02-18 22:52:00</td>\n",
       "      <td>2020-02-19 01:22:00</td>\n",
       "    </tr>\n",
       "    <tr>\n",
       "      <th>1</th>\n",
       "      <td>AD</td>\n",
       "      <td>Azul Airlines</td>\n",
       "      <td>AD2484</td>\n",
       "      <td>AJU</td>\n",
       "      <td>SSA</td>\n",
       "      <td>2020-02-19 00:55:00</td>\n",
       "      <td>2020-02-19 01:45:00</td>\n",
       "      <td>2020-02-19 00:52:00</td>\n",
       "      <td>2020-02-19 01:35:00</td>\n",
       "    </tr>\n",
       "    <tr>\n",
       "      <th>2</th>\n",
       "      <td>LA</td>\n",
       "      <td>LATAM Airlines</td>\n",
       "      <td>LA3398</td>\n",
       "      <td>AJU</td>\n",
       "      <td>GRU</td>\n",
       "      <td>2020-02-18 23:45:00</td>\n",
       "      <td>2020-02-19 02:30:00</td>\n",
       "      <td>2020-02-18 23:44:00</td>\n",
       "      <td>2020-02-19 02:29:00</td>\n",
       "    </tr>\n",
       "    <tr>\n",
       "      <th>3</th>\n",
       "      <td>AD</td>\n",
       "      <td>Azul Airlines</td>\n",
       "      <td>AD2713</td>\n",
       "      <td>AJU</td>\n",
       "      <td>REC</td>\n",
       "      <td>2020-02-19 09:10:00</td>\n",
       "      <td>2020-02-19 10:35:00</td>\n",
       "      <td>2020-02-19 09:10:00</td>\n",
       "      <td>2020-02-19 10:35:00</td>\n",
       "    </tr>\n",
       "    <tr>\n",
       "      <th>4</th>\n",
       "      <td>G3</td>\n",
       "      <td>GOL Linhas Aéreas</td>\n",
       "      <td>G32012</td>\n",
       "      <td>AJU</td>\n",
       "      <td>GIG</td>\n",
       "      <td>2020-02-19 08:30:00</td>\n",
       "      <td>2020-02-19 10:50:00</td>\n",
       "      <td>2020-02-19 08:30:00</td>\n",
       "      <td>2020-02-19 10:50:00</td>\n",
       "    </tr>\n",
       "    <tr>\n",
       "      <th>...</th>\n",
       "      <td>...</td>\n",
       "      <td>...</td>\n",
       "      <td>...</td>\n",
       "      <td>...</td>\n",
       "      <td>...</td>\n",
       "      <td>...</td>\n",
       "      <td>...</td>\n",
       "      <td>...</td>\n",
       "      <td>...</td>\n",
       "    </tr>\n",
       "    <tr>\n",
       "      <th>1624</th>\n",
       "      <td>JR</td>\n",
       "      <td>MAP Linhas Aéreas</td>\n",
       "      <td>7M5912</td>\n",
       "      <td>ITB</td>\n",
       "      <td>PIN</td>\n",
       "      <td>2020-02-19 08:30:00</td>\n",
       "      <td>2020-02-19 10:00:00</td>\n",
       "      <td>NaT</td>\n",
       "      <td>NaT</td>\n",
       "    </tr>\n",
       "    <tr>\n",
       "      <th>1625</th>\n",
       "      <td>JR</td>\n",
       "      <td>MAP Linhas Aéreas</td>\n",
       "      <td>7M5913</td>\n",
       "      <td>ITB</td>\n",
       "      <td>ATM</td>\n",
       "      <td>2020-02-19 16:15:00</td>\n",
       "      <td>2020-02-19 17:20:00</td>\n",
       "      <td>2020-02-19 15:15:00</td>\n",
       "      <td>NaT</td>\n",
       "    </tr>\n",
       "    <tr>\n",
       "      <th>1626</th>\n",
       "      <td>AD</td>\n",
       "      <td>Azul Airlines</td>\n",
       "      <td>AD4352</td>\n",
       "      <td>IZA</td>\n",
       "      <td>VCP</td>\n",
       "      <td>2020-02-19 08:30:00</td>\n",
       "      <td>2020-02-19 10:05:00</td>\n",
       "      <td>NaT</td>\n",
       "      <td>NaT</td>\n",
       "    </tr>\n",
       "    <tr>\n",
       "      <th>1627</th>\n",
       "      <td>G3</td>\n",
       "      <td>GOL Linhas Aéreas</td>\n",
       "      <td>G31352</td>\n",
       "      <td>IZA</td>\n",
       "      <td>CGH</td>\n",
       "      <td>2020-02-19 11:35:00</td>\n",
       "      <td>2020-02-19 12:45:00</td>\n",
       "      <td>2020-02-19 11:35:00</td>\n",
       "      <td>2020-02-19 12:45:00</td>\n",
       "    </tr>\n",
       "    <tr>\n",
       "      <th>1628</th>\n",
       "      <td>AD</td>\n",
       "      <td>Azul Airlines</td>\n",
       "      <td>AD4332</td>\n",
       "      <td>IZA</td>\n",
       "      <td>VCP</td>\n",
       "      <td>2020-02-19 18:15:00</td>\n",
       "      <td>2020-02-19 19:50:00</td>\n",
       "      <td>NaT</td>\n",
       "      <td>NaT</td>\n",
       "    </tr>\n",
       "  </tbody>\n",
       "</table>\n",
       "<p>1629 rows × 9 columns</p>\n",
       "</div>"
      ],
      "text/plain": [
       "     airlineId  ... localisedEstimatedArrivalTime\n",
       "0           G3  ...           2020-02-19 01:22:00\n",
       "1           AD  ...           2020-02-19 01:35:00\n",
       "2           LA  ...           2020-02-19 02:29:00\n",
       "3           AD  ...           2020-02-19 10:35:00\n",
       "4           G3  ...           2020-02-19 10:50:00\n",
       "...        ...  ...                           ...\n",
       "1624        JR  ...                           NaT\n",
       "1625        JR  ...                           NaT\n",
       "1626        AD  ...                           NaT\n",
       "1627        G3  ...           2020-02-19 12:45:00\n",
       "1628        AD  ...                           NaT\n",
       "\n",
       "[1629 rows x 9 columns]"
      ]
     },
     "execution_count": 41,
     "metadata": {
      "tags": []
     },
     "output_type": "execute_result"
    }
   ],
   "source": [
    "df_arrival_data"
   ]
  },
  {
   "cell_type": "code",
   "execution_count": 0,
   "metadata": {
    "colab": {},
    "colab_type": "code",
    "collapsed": true,
    "id": "kCEcAfrMJ4BY"
   },
   "outputs": [],
   "source": [
    "df_arrival_data['departure_delay'] = (df_arrival_data['localisedEstimatedDepartureTime'] - df_arrival_data['localisedScheduledDepartureTime']).apply(lambda x: pd.Timedelta(x).total_seconds() / 60)\n",
    "df_arrival_data['arrival_delay'] = (df_arrival_data['localisedEstimatedArrivalTime'] - df_arrival_data['localisedScheduledArrivalTime']).apply(lambda x: pd.Timedelta(x).total_seconds() / 60)"
   ]
  },
  {
   "cell_type": "code",
   "execution_count": 0,
   "metadata": {
    "colab": {
     "base_uri": "https://localhost:8080/",
     "height": 404
    },
    "colab_type": "code",
    "id": "glMrpRwPngNT",
    "outputId": "9167c296-4a35-4252-b334-72317e1b0068"
   },
   "outputs": [
    {
     "data": {
      "image/png": "[encoded data removed]",
      "text/plain": [
       "<Figure size 720x432 with 1 Axes>"
      ]
     },
     "metadata": {
      "tags": []
     },
     "output_type": "display_data"
    }
   ],
   "source": [
    "plt.figure(figsize=(10, 6))\n",
    "ax = sns.distplot(df_arrival_data['departure_delay'].dropna(), kde=False, hist_kws={'edgecolor':'black'})\n",
    "\n",
    "plt.title('Delay of departures among all airports')\n",
    "plt.xlabel('# of flights')\n",
    "plt.xlabel('Departure delay (min)')\n",
    "plt.grid(True)\n",
    "plt.show()"
   ]
  },
  {
   "cell_type": "code",
   "execution_count": 0,
   "metadata": {
    "colab": {
     "base_uri": "https://localhost:8080/",
     "height": 404
    },
    "colab_type": "code",
    "id": "yyR9cmhQGrx7",
    "outputId": "4154412b-5b20-4f46-851e-96c17360606a"
   },
   "outputs": [
    {
     "data": {
      "image/png": "[encoded data removed]",
      "text/plain": [
       "<Figure size 720x432 with 1 Axes>"
      ]
     },
     "metadata": {
      "tags": []
     },
     "output_type": "display_data"
    }
   ],
   "source": [
    "plt.figure(figsize=(10, 6))\n",
    "ax = sns.distplot(df_arrival_data['departure_delay'].dropna(), kde=False, hist_kws={'edgecolor':'black'})\n",
    "\n",
    "plt.title('Delay of departures among all airports')\n",
    "plt.xlabel('# of flights')\n",
    "plt.xlabel('Departure delay (min)')\n",
    "ax.set_yscale('log')\n",
    "plt.grid(True)\n",
    "plt.show()"
   ]
  },
  {
   "cell_type": "code",
   "execution_count": 0,
   "metadata": {
    "colab": {
     "base_uri": "https://localhost:8080/",
     "height": 404
    },
    "colab_type": "code",
    "id": "WARQDb6QoW8L",
    "outputId": "c7fbb5f8-87d2-4b56-83cc-cba2874438da"
   },
   "outputs": [
    {
     "data": {
      "image/png": "[encoded data removed]",
      "text/plain": [
       "<Figure size 720x432 with 1 Axes>"
      ]
     },
     "metadata": {
      "tags": []
     },
     "output_type": "display_data"
    }
   ],
   "source": [
    "plt.figure(figsize=(10, 6))\n",
    "ax = sns.distplot(df_arrival_data['arrival_delay'].dropna(), kde=False, hist_kws={'edgecolor':'black'})\n",
    "\n",
    "plt.title('Delay of arrivals among all airports')\n",
    "plt.xlabel('# of flights')\n",
    "plt.xlabel('Arrival delay (min)')\n",
    "plt.grid(True)\n",
    "plt.show()"
   ]
  },
  {
   "cell_type": "code",
   "execution_count": 0,
   "metadata": {
    "colab": {
     "base_uri": "https://localhost:8080/",
     "height": 404
    },
    "colab_type": "code",
    "id": "PNva-QyDoc9R",
    "outputId": "2ef8a64a-0d4b-4c1b-bc66-53fc745c9288"
   },
   "outputs": [
    {
     "data": {
      "image/png": "[encoded data removed]",
      "text/plain": [
       "<Figure size 720x432 with 1 Axes>"
      ]
     },
     "metadata": {
      "tags": []
     },
     "output_type": "display_data"
    }
   ],
   "source": [
    "plt.figure(figsize=(10, 6))\n",
    "ax = sns.distplot(df_arrival_data['arrival_delay'].dropna(), kde=False, hist_kws={'edgecolor':'black'})\n",
    "\n",
    "plt.title('Delay of departures among all airports')\n",
    "plt.xlabel('# of flights')\n",
    "plt.xlabel('Departure delay')\n",
    "\n",
    "ax.set_yscale('log')\n",
    "plt.grid(True)\n",
    "plt.show()"
   ]
  }
 ],
 "metadata": {
  "colab": {
   "collapsed_sections": [],
   "name": "Scraping HTML.ipynb",
   "provenance": []
  },
  "kernelspec": {
   "display_name": "Python 3",
   "language": "python",
   "name": "python3"
  },
  "language_info": {
   "codemirror_mode": {
    "name": "ipython",
    "version": 3
   },
   "file_extension": ".py",
   "mimetype": "text/x-python",
   "name": "python",
   "nbconvert_exporter": "python",
   "pygments_lexer": "ipython3",
   "version": "3.6.3"
  }
 },
 "nbformat": 4,
 "nbformat_minor": 1
}
